{
 "cells": [
  {
   "cell_type": "markdown",
   "id": "2de1395c",
   "metadata": {},
   "source": [
    "### Function\n",
    "A function is like a mini-program inside your program.\n",
    "It groups some code together, so you can reuse it whenever you want.\n",
    "We use the keyword def to define a function."
   ]
  },
  {
   "cell_type": "code",
   "execution_count": null,
   "id": "501c946a",
   "metadata": {},
   "outputs": [],
   "source": [
    "def greet():\n",
    "    print(\"Hello, welcome to Python!\")"
   ]
  },
  {
   "cell_type": "markdown",
   "id": "a3ee7fda",
   "metadata": {},
   "source": [
    "### How to Call (Use) a Function?\n",
    "Once you define it, you can call it"
   ]
  },
  {
   "cell_type": "code",
   "execution_count": 2,
   "id": "db06b71e",
   "metadata": {},
   "outputs": [
    {
     "name": "stdout",
     "output_type": "stream",
     "text": [
      "Hello, welcome to Python!\n"
     ]
    }
   ],
   "source": [
    "greet()  "
   ]
  },
  {
   "cell_type": "markdown",
   "id": "66ba388f",
   "metadata": {},
   "source": [
    "### Why Use Functions?\n",
    "\n",
    "Avoid repeating code\n",
    "Easy to manage big programs\n",
    "Easy to test/debug"
   ]
  },
  {
   "cell_type": "markdown",
   "id": "00aa0048",
   "metadata": {},
   "source": [
    "### Parameters in Functions\n",
    "Parameters are like placeholders for values you want to give to a function."
   ]
  },
  {
   "cell_type": "code",
   "execution_count": 3,
   "id": "98b5b41c",
   "metadata": {},
   "outputs": [],
   "source": [
    "def greet(name):\n",
    "    print(\"Hello\", name)"
   ]
  },
  {
   "cell_type": "code",
   "execution_count": 5,
   "id": "eaa47d1a",
   "metadata": {},
   "outputs": [
    {
     "name": "stdout",
     "output_type": "stream",
     "text": [
      "Hello Pratyusha\n",
      "Hello SMATech\n"
     ]
    }
   ],
   "source": [
    "greet(\"Pratyusha\")   \n",
    "greet(\"SMATech\")     "
   ]
  },
  {
   "cell_type": "markdown",
   "id": "c92a77ab",
   "metadata": {},
   "source": [
    "### Multiple Parameters:"
   ]
  },
  {
   "cell_type": "code",
   "execution_count": 6,
   "id": "cc0cf21e",
   "metadata": {},
   "outputs": [
    {
     "name": "stdout",
     "output_type": "stream",
     "text": [
      "Sum is: 15\n"
     ]
    }
   ],
   "source": [
    "def add(a, b):\n",
    "    result = a + b\n",
    "    print(\"Sum is:\", result)\n",
    "\n",
    "add(5, 10)"
   ]
  },
  {
   "cell_type": "markdown",
   "id": "4d1631e2",
   "metadata": {},
   "source": [
    "### Recursion in Python\n",
    "What is Recursion?\n",
    "When a function calls itself, it’s called recursion.\n",
    "We use recursion to solve problems that repeat in smaller parts."
   ]
  },
  {
   "cell_type": "markdown",
   "id": "748fa657",
   "metadata": {},
   "source": [
    "Factorial of a Number\n",
    "Factorial of 5 = 5 × 4 × 3 × 2 × 1 = 120"
   ]
  },
  {
   "cell_type": "code",
   "execution_count": 7,
   "id": "3153ed67",
   "metadata": {},
   "outputs": [],
   "source": [
    "def factorial(n):\n",
    "    if n == 1:\n",
    "        return 1\n",
    "    else:\n",
    "        return n * factorial(n - 1)\n"
   ]
  },
  {
   "cell_type": "markdown",
   "id": "f2b1e029",
   "metadata": {},
   "source": [
    "### Calling Recursive Function"
   ]
  },
  {
   "cell_type": "code",
   "execution_count": null,
   "id": "bd423848",
   "metadata": {},
   "outputs": [
    {
     "name": "stdout",
     "output_type": "stream",
     "text": [
      "120\n"
     ]
    }
   ],
   "source": [
    "print(factorial(5))   "
   ]
  },
  {
   "cell_type": "markdown",
   "id": "6db110a5",
   "metadata": {},
   "source": [
    "Explanation\n",
    "factorial(5)\n",
    "= 5 × factorial(4)\n",
    "= 5 × 4 × factorial(3)\n",
    "= 5 × 4 × 3 × factorial(2)\n",
    "= 5 × 4 × 3 × 2 × factorial(1)\n",
    "= 5 × 4 × 3 × 2 × 1\n",
    "= 120"
   ]
  },
  {
   "cell_type": "markdown",
   "id": "ca31658e",
   "metadata": {},
   "source": [
    "### Why use functions\n",
    "A function is a block of code that performs a specific task. Instead of writing the same code again and again, we can put it inside a function and call the function whenever we need it. Functions make our code clean, reusable, and easy to manage. In Python, we define a function using the def keyword, and we can also pass data to the function using parameters. For example, if we want to calculate the sum of two numbers many times in our program, we can write a function add(a, b) and use it wherever needed."
   ]
  },
  {
   "cell_type": "markdown",
   "id": "9b6c3e25",
   "metadata": {},
   "source": [
    "### Why use Recursion\n",
    "Recursion is a special type of function where the function calls itself to solve smaller parts of a bigger problem. It is useful when a problem is naturally repetitive or follows a pattern of breaking into smaller sub-problems — like tree structures, folder searching, or calculating factorial. Every recursive function must have a base case (a stopping condition) to prevent it from calling itself forever. In Data Engineering, recursion is used in real-life scenarios like traversing nested JSON, processing parent-child data in databases, or resolving task dependencies in ETL pipelines."
   ]
  }
 ],
 "metadata": {
  "kernelspec": {
   "display_name": "Python 3",
   "language": "python",
   "name": "python3"
  },
  "language_info": {
   "codemirror_mode": {
    "name": "ipython",
    "version": 3
   },
   "file_extension": ".py",
   "mimetype": "text/x-python",
   "name": "python",
   "nbconvert_exporter": "python",
   "pygments_lexer": "ipython3",
   "version": "3.12.3"
  }
 },
 "nbformat": 4,
 "nbformat_minor": 5
}
