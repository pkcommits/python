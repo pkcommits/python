{
 "cells": [
  {
   "cell_type": "markdown",
   "id": "7d13d7ff",
   "metadata": {},
   "source": [
    "### Arguments\n",
    "\n",
    "Arguments in Python are the values or data you pass to a function when calling it\n",
    "\n",
    "They allow you to pass information into a function so it can work on that data."
   ]
  },
  {
   "cell_type": "markdown",
   "id": "51365e26",
   "metadata": {},
   "source": [
    "### Difference between parameter and argument\n",
    "\n",
    "Arguments = Actual data you pass while calling a function\n",
    "\n",
    "Parameters = Variables in the function definition to receive that data"
   ]
  },
  {
   "cell_type": "code",
   "execution_count": null,
   "id": "0f3da8ad",
   "metadata": {},
   "outputs": [],
   "source": [
    "# Function definition\n",
    "def greet(name):  # 'name' is a parameter (like a placeholder)\n",
    "    print(f\"Hello, {name}!\")\n",
    "\n",
    "# Function call\n",
    "greet(\"Pratyusha\")  # \"Pratyusha\" is an argument (actual data)\n"
   ]
  },
  {
   "cell_type": "markdown",
   "id": "f7d70e8c",
   "metadata": {},
   "source": [
    "### Positional Arguments\n",
    "\n",
    "Positional arguments in Python functions are those whose values are assigned based on their order when the function is called. The position of each argument in the function call must match the position of the corresponding parameter in the function definition.\n",
    "\n",
    "The first value goes to the first parameter,\n",
    "\n",
    "The second value goes to the second parameter, and so on.\n",
    "\n",
    "Order matters in positional arguments, Python matches values by position."
   ]
  },
  {
   "cell_type": "code",
   "execution_count": null,
   "id": "84e00850",
   "metadata": {},
   "outputs": [],
   "source": [
    "def student(name, age):\n",
    "    print(\"Name:\", name)\n",
    "    print(\"Age:\", age)\n",
    "\n",
    "student(\"Alice\", 20)"
   ]
  },
  {
   "cell_type": "code",
   "execution_count": null,
   "id": "eb539937",
   "metadata": {},
   "outputs": [],
   "source": [
    "#If you change the order\n",
    "student(20, \"Alice\")  # Wrong Order"
   ]
  },
  {
   "cell_type": "markdown",
   "id": "738caffc",
   "metadata": {},
   "source": [
    "### Keyword Arguments\n",
    "\n",
    "We pass values by name, not by order.\n",
    "\n",
    "Order doesn’t matter.\n",
    "\n",
    "Keyword arguments in Python allow you to pass arguments to a function using the parameter names as keywords.\n",
    "\n",
    "Order does not matter in keyword arguments.\n",
    "\n",
    "Python knows which value is for which parameter because of the name."
   ]
  },
  {
   "cell_type": "code",
   "execution_count": null,
   "id": "e31f2243",
   "metadata": {},
   "outputs": [],
   "source": [
    "student(age=25, name=\"Bob\")"
   ]
  },
  {
   "cell_type": "markdown",
   "id": "0965c4cd",
   "metadata": {},
   "source": [
    "### Default Arguments\n",
    "\n",
    "We give a default value to a parameter.\n",
    "\n",
    "If the user doesn’t pass that value, default is used.\n",
    "\n",
    "Makes function flexible.\n",
    "\n",
    "User can skip some values if not needed.\n",
    "\n",
    "Default arguments should be written after non-default arguments."
   ]
  },
  {
   "cell_type": "code",
   "execution_count": null,
   "id": "af80bf1d",
   "metadata": {},
   "outputs": [],
   "source": [
    "def student(name, age=18, city=\"Unknown\"):\n",
    "    print(\"Name:\", name)\n",
    "    print(\"Age:\", age)\n",
    "    print(\"City:\", city)\n"
   ]
  },
  {
   "cell_type": "code",
   "execution_count": null,
   "id": "64379105",
   "metadata": {},
   "outputs": [],
   "source": [
    "#Case 1: Passing all values\n",
    "student(\"Alice\", 20, \"New York\")"
   ]
  },
  {
   "cell_type": "code",
   "execution_count": null,
   "id": "4f726b44",
   "metadata": {},
   "outputs": [],
   "source": [
    "#Case 2: Passing only name\n",
    "student(\"Bob\") #(Used default age and city)"
   ]
  },
  {
   "cell_type": "code",
   "execution_count": null,
   "id": "895efe66",
   "metadata": {},
   "outputs": [],
   "source": [
    "def student(name, age=18):\n",
    "    pass\n"
   ]
  },
  {
   "cell_type": "code",
   "execution_count": null,
   "id": "ff3a9c23",
   "metadata": {},
   "outputs": [],
   "source": [
    "def student(age=18, name):  # Error\n",
    "    pass\n"
   ]
  },
  {
   "cell_type": "markdown",
   "id": "9e366d00",
   "metadata": {},
   "source": [
    "### *args \n",
    "\n",
    "*args is used in function definitions to pass a variable number of non-keyword arguments\n",
    "i.e *args allows a function to take any number of extra values without knowing in advance how many.\n",
    "\n",
    "It is mostly used when we don’t know how many values the user will pass.\n",
    "\n",
    "To avoid writing many parameters like:\n",
    "def add(a, b, c, d, e, f): — not flexible.\n",
    "\n",
    "It collects extra positional arguments into a tuple, allowing functions to accept varying numbers of inputs.\n",
    "\n",
    "*args is useful when the number of arguments a function will receive is unknown or can vary. It simplifies code by avoiding the need to create and manage lists or other data structures for the arguments."
   ]
  },
  {
   "cell_type": "code",
   "execution_count": null,
   "id": "d02587c2",
   "metadata": {},
   "outputs": [],
   "source": [
    "def total_marks(*marks):\n",
    "    print(\"Marks:\", marks)\n",
    "    print(\"Total:\", sum(marks))\n",
    "\n",
    "total_marks(85, 90, 95)\n"
   ]
  },
  {
   "cell_type": "code",
   "execution_count": null,
   "id": "a78cc50a",
   "metadata": {},
   "outputs": [],
   "source": [
    "#without *args\n",
    "\n",
    "def add(a, b):\n",
    "    print(a + b)\n",
    "\n",
    "add(5, 10)  # works fine\n",
    "add(5, 10, 20)  # Error\n",
    "\n",
    "#Problem → Only 2 values allowed."
   ]
  },
  {
   "cell_type": "markdown",
   "id": "60fc18ad",
   "metadata": {},
   "source": [
    "### **kwargs \n",
    "\n",
    "**kwargs is a special syntax in Python used in function definitions to pass a variable number of keyword arguments to a function\n",
    "\n",
    "It is used when we don’t know how many named arguments (name=value) will be passed.\n",
    "\n",
    "It allows a function to accept any number of named arguments, which are then gathered into a dictionary within the function."
   ]
  },
  {
   "cell_type": "code",
   "execution_count": null,
   "id": "ffbf508c",
   "metadata": {},
   "outputs": [],
   "source": [
    "def student_info(**details):\n",
    "    print(\"Details:\", details)\n",
    "\n",
    "student_info(name=\"David\", age=23, city=\"New York\")\n"
   ]
  },
  {
   "cell_type": "code",
   "execution_count": null,
   "id": "db25bcb9",
   "metadata": {},
   "outputs": [],
   "source": [
    "# without **kwargs\n",
    "\n",
    "def user_info(name, age):\n",
    "    print(f\"Name: {name}, Age: {age}\")\n",
    "\n",
    "user_info(name=\"Pratz\", age=30)\n",
    "user_info(name=\"Pratz\", age=30, city=\"Bangalore\")  # Error\n"
   ]
  },
  {
   "cell_type": "code",
   "execution_count": null,
   "id": "7c5801c4",
   "metadata": {},
   "outputs": [],
   "source": [
    "#Mixing *args and **kwargs\n",
    "\n",
    "def func(positional, *args, **kwargs):\n",
    "    pass\n"
   ]
  },
  {
   "cell_type": "code",
   "execution_count": null,
   "id": "86b8c04b",
   "metadata": {},
   "outputs": [],
   "source": [
    "def order_summary(item, *extras, **details):\n",
    "    print(\"Item Ordered:\", item)\n",
    "    print(\"Extras:\", extras)\n",
    "    print(\"Details:\", details)\n",
    "\n",
    "order_summary(\"Pizza\", \"Cheese\", \"Olives\", size=\"Large\", address=\"Mumbai\")\n"
   ]
  },
  {
   "cell_type": "markdown",
   "id": "e3413b79",
   "metadata": {},
   "source": [
    "### Concept\tRule\n",
    "\n",
    "Positional Arguments:\tJust values (order is important) \n",
    "\n",
    "Keyword Arguments:\t    Name=Value pairs (order doesn't matter)\n",
    "\n",
    "*args:                  Collects extra positional args into tuple\n",
    "\n",
    "**kwargs:               Collects extra keyword args into dict"
   ]
  },
  {
   "cell_type": "markdown",
   "id": "656709d4",
   "metadata": {},
   "source": [
    "### return Statement\n",
    "\n",
    "The return statement in Python serves to end the execution of a function and send a value back to the caller. \n",
    "\n",
    "It plays a crucial role in enabling functions to produce results that can be utilized in other parts of a program. \n",
    "\n",
    "When Python encounters a return statement within a function, it immediately exits the function and returns the specified value. If no value is specified, it returns None by default."
   ]
  },
  {
   "cell_type": "code",
   "execution_count": null,
   "id": "efa11124",
   "metadata": {},
   "outputs": [],
   "source": [
    "def add(a, b):\n",
    "    return a + b\n",
    "\n",
    "result = add(5, 10)\n",
    "print(\"Sum is:\", result)\n"
   ]
  },
  {
   "cell_type": "markdown",
   "id": "1dd036dd",
   "metadata": {},
   "source": [
    "### What happens if we don’t use return in a function?\n",
    "\n",
    "The function will only print the output.\n",
    "\n",
    "But we cannot store or reuse the result later.\n",
    "\n",
    "If we try to store it, Python stores None (empty value)."
   ]
  },
  {
   "cell_type": "code",
   "execution_count": null,
   "id": "8ce58f52",
   "metadata": {},
   "outputs": [],
   "source": [
    "def add(a, b):\n",
    "    print(a + b)   # only prints the result\n",
    "\n",
    "result = add(5, 10)  # trying to store output\n",
    "print(\"Result is:\", result)\n"
   ]
  }
 ],
 "metadata": {
  "kernelspec": {
   "display_name": "Python 3",
   "language": "python",
   "name": "python3"
  },
  "language_info": {
   "codemirror_mode": {
    "name": "ipython",
    "version": 3
   },
   "file_extension": ".py",
   "mimetype": "text/x-python",
   "name": "python",
   "nbconvert_exporter": "python",
   "pygments_lexer": "ipython3",
   "version": "3.12.3"
  }
 },
 "nbformat": 4,
 "nbformat_minor": 5
}
