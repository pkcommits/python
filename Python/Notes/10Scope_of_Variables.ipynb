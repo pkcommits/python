{
 "cells": [
  {
   "cell_type": "markdown",
   "id": "821d4413",
   "metadata": {},
   "source": [
    "### Scope of Variables\n",
    "\n",
    "Scope of a variable is the region in the code where the variable is available/accessible. A variable declared outside a function (i.e. the main region of the code) is called a global variable and a variable declared inside a function is called a local variable of that function."
   ]
  },
  {
   "cell_type": "markdown",
   "id": "b9cb979a",
   "metadata": {},
   "source": [
    "The ‘global_variable’ is accessible from anywhere in the code. While, the ‘local_variable’ declared inside a function is only accessible from inside that function. We aren’t able to access it from outside the function."
   ]
  },
  {
   "cell_type": "code",
   "execution_count": null,
   "id": "2dbd1880",
   "metadata": {},
   "outputs": [],
   "source": [
    "global_variable = 1\n",
    "def function():\n",
    "    local_variable = 2\n",
    "    return global_variable\n",
    "print(f'Global variable call inside function: {function()}') # 1\n",
    "print(f'Global variable call outside function: {global_variable}') # 1\n",
    "print(f'Local variable: {local_variable}') # error"
   ]
  },
  {
   "cell_type": "markdown",
   "id": "c7df88b0",
   "metadata": {},
   "source": [
    "The ‘global_variable’ is accessible from anywhere in the code. While, the ‘local_variable’ declared inside a function is only accessible from inside that function. We aren’t able to access it from outside the function"
   ]
  },
  {
   "cell_type": "markdown",
   "id": "b9bf6626",
   "metadata": {},
   "source": [
    "Python searches for a variable in the local scope first and then in the global scope. "
   ]
  },
  {
   "cell_type": "code",
   "execution_count": null,
   "id": "bba567c3",
   "metadata": {},
   "outputs": [],
   "source": [
    "variable = 1\n",
    "def function():\n",
    "    variable = 2\n",
    "    return variable\n",
    "print(f'variable call inside function: {function()}')\n",
    "print(f'variable call outside function: {variable}')"
   ]
  },
  {
   "cell_type": "markdown",
   "id": "690e0bf2",
   "metadata": {},
   "source": [
    "A global variable can be accessed from anywhere in the program. Though we can access a global variable from within a function, we cannot modify it."
   ]
  },
  {
   "cell_type": "code",
   "execution_count": null,
   "id": "93491e1a",
   "metadata": {},
   "outputs": [],
   "source": [
    "global_variable = 1\n",
    "def function():\n",
    "    global_variable += 1 #Modifying a global variable\n",
    "    return global_variable\n",
    "function()"
   ]
  },
  {
   "cell_type": "markdown",
   "id": "004fbae2",
   "metadata": {},
   "source": [
    "To modify the global variable from within a function, we need to use the keyword ‘global’. \n",
    "\n",
    "We were able to modify the global variable from within the function after declaring it using the ‘global’ keyword inside the function."
   ]
  },
  {
   "cell_type": "code",
   "execution_count": null,
   "id": "bf9266b0",
   "metadata": {},
   "outputs": [],
   "source": [
    "glob_var = 1\n",
    "def function():\n",
    "    global glob_var #Using global keyword\n",
    "    \n",
    "    print(f'Global var inside function before increment:{glob_var}')\n",
    "    glob_var += 1\n",
    "    \n",
    "    print(f'Global var inside function after increment:{glob_var}')\n",
    "\n",
    "function()\n",
    "print(f'Global variable call outside function:{glob_var}')"
   ]
  },
  {
   "cell_type": "markdown",
   "id": "d40b72ee",
   "metadata": {},
   "source": [
    "### The scope of a variable in case of nested functions. \n",
    "\n",
    "We’ll create a function named ‘fourth_power’ with a nested function named ‘square’. The function ‘fourth_power’ takes an input argument and passes it to the nested function ‘square’, which squares the input argument. Then, the function ‘fourth_power’ returns the square of the output returned by the nested function ‘square’."
   ]
  },
  {
   "cell_type": "code",
   "execution_count": null,
   "id": "95be68d4",
   "metadata": {},
   "outputs": [],
   "source": [
    "def fourth_power(x):\n",
    "    def square(y):\n",
    "        return x ** 2 #x is accessed from fourth_power\n",
    "    return square(x) ** 2\n",
    "print(f'Fourth power of 3 (3^4) is {fourth_power(3)}')"
   ]
  },
  {
   "cell_type": "markdown",
   "id": "335f3035",
   "metadata": {},
   "source": [
    "We can see that the function square takes in an input argument ‘y’ but returns ‘x**2’. But there is no error, this is because, initially Python searched for the variable ‘x’ in local scope of ‘square’, but couldn’t find it. Therefore, it searched for variable ‘x’ in the scope of function ‘fourth_power’ and used it. Hence, the function ‘square’ returns (3 ** 2). the function fourth power returns (3 ** 2 ** 2) which is 81."
   ]
  },
  {
   "cell_type": "markdown",
   "id": "889b388c",
   "metadata": {},
   "source": [
    "we get an error if we try to modify a variable which isn’t declared in the local scope of a function. "
   ]
  },
  {
   "cell_type": "code",
   "execution_count": null,
   "id": "b5027151",
   "metadata": {},
   "outputs": [],
   "source": [
    "def fourth_power(x):\n",
    "    def square(y):\n",
    "        x = x + 1 - 1 # Modifying non-local variable\n",
    "        return x ** 2\n",
    "    return square(x) ** 2\n",
    "print(f'Fourth power of 3 (3^4) is {fourth_power(3)}')"
   ]
  },
  {
   "cell_type": "markdown",
   "id": "2e921efe",
   "metadata": {},
   "source": [
    "We got an error as we tried to modify a variable which isn’t declared in the local scope of the function ‘square’. We can avoid this error using the keyword ‘nonlocal’. Since, the variable ‘x’ is not in the global scope, we can’t use the ‘global’ keyword."
   ]
  },
  {
   "cell_type": "code",
   "execution_count": null,
   "id": "0c1a2b02",
   "metadata": {},
   "outputs": [],
   "source": [
    "def fourth_power(x):\n",
    "    def square(y):\n",
    "        nonlocal x #Using nonlocal keyword\n",
    "        x = x + 1 - 1\n",
    "        return x ** 2\n",
    "    return square(x) ** 2\n",
    "print(f'Fourth power of 3 (3^4) is {fourth_power(3)}')"
   ]
  },
  {
   "cell_type": "markdown",
   "id": "1f3eb8ad",
   "metadata": {},
   "source": [
    "Using the keyword ‘nonlocal’, we could modify the variable which isn’t declared in the local scope of a function. Since, we incremented the variable by 1 and decremented it by 1, the value of the variable remains unchanged."
   ]
  }
 ],
 "metadata": {
  "kernelspec": {
   "display_name": "Python 3",
   "language": "python",
   "name": "python3"
  },
  "language_info": {
   "codemirror_mode": {
    "name": "ipython",
    "version": 3
   },
   "file_extension": ".py",
   "mimetype": "text/x-python",
   "name": "python",
   "nbconvert_exporter": "python",
   "pygments_lexer": "ipython3",
   "version": "3.12.3"
  }
 },
 "nbformat": 4,
 "nbformat_minor": 5
}
