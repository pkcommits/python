{
 "cells": [
  {
   "cell_type": "markdown",
   "id": "496f33a7",
   "metadata": {},
   "source": [
    "### Dictionary\n",
    "\n",
    "A dictionary in Python is a built-in data type that stores data in key-value pairs. Dictionaries are mutable, unordered collections, meaning their contents can be changed after creation and the order of items is not guaranteed. Keys must be immutable types (e.g., strings, numbers, tuples), while values can be of any data type."
   ]
  },
  {
   "cell_type": "markdown",
   "id": "716b0cad",
   "metadata": {},
   "source": [
    "Dictionaries can be created using curly braces {} or the dict() constructor."
   ]
  },
  {
   "cell_type": "code",
   "execution_count": 1,
   "id": "8e67fb8c",
   "metadata": {},
   "outputs": [
    {
     "name": "stdout",
     "output_type": "stream",
     "text": [
      "{'name': 'Alice', 'age': 30, 'city': 'New York'}\n"
     ]
    }
   ],
   "source": [
    "# Using curly braces {key: value}\n",
    "my_dict = {\"name\": \"Alice\", \"age\": 30, \"city\": \"New York\"}\n",
    "\n",
    "# Using the dict() constructor\n",
    "my_dict = dict(name=\"Alice\", age=30, city=\"New York\")\n",
    "print(my_dict)"
   ]
  },
  {
   "cell_type": "markdown",
   "id": "7a70b8cd",
   "metadata": {},
   "source": [
    "### Accessing Values\n",
    "\n",
    "Values are accessed using their corresponding keys within square brackets []."
   ]
  },
  {
   "cell_type": "code",
   "execution_count": null,
   "id": "1ab6fa94",
   "metadata": {},
   "outputs": [
    {
     "name": "stdout",
     "output_type": "stream",
     "text": [
      "30\n"
     ]
    }
   ],
   "source": [
    "my_dict = {\"name\": \"Alice\", \"age\": 30, \"city\": \"New York\"}\n",
    "name = my_dict[\"age\"]  # Accessing the value associated with the key \"name\"\n",
    "print(name)"
   ]
  },
  {
   "cell_type": "markdown",
   "id": "d802f688",
   "metadata": {},
   "source": [
    "### Modifying Dictionaries\n",
    "\n",
    "Dictionaries can be modified by adding new key-value pairs, updating existing values, or removing items."
   ]
  },
  {
   "cell_type": "code",
   "execution_count": 4,
   "id": "d60e57c9",
   "metadata": {},
   "outputs": [
    {
     "name": "stdout",
     "output_type": "stream",
     "text": [
      "{'name': 'Alice', 'age': 30, 'city': 'New York', 'occupation': 'Engineer'}\n",
      "{'name': 'Alice', 'age': 31, 'city': 'New York', 'occupation': 'Engineer'}\n",
      "{'name': 'Alice', 'age': 31, 'occupation': 'Engineer'}\n"
     ]
    }
   ],
   "source": [
    "my_dict = {\"name\": \"Alice\", \"age\": 30, \"city\": \"New York\"}\n",
    "\n",
    "# Adding a new key-value pair\n",
    "my_dict[\"occupation\"] = \"Engineer\"\n",
    "print(my_dict)\n",
    "\n",
    "# Updating an existing value\n",
    "my_dict[\"age\"] = 31\n",
    "print(my_dict)\n",
    "\n",
    "# Removing an item\n",
    "del my_dict[\"city\"]\n",
    "print(my_dict)"
   ]
  },
  {
   "cell_type": "markdown",
   "id": "6a9fb323",
   "metadata": {},
   "source": [
    "### Dictionary Methods\n",
    "\n",
    "Python dictionaries offer various methods for manipulating data."
   ]
  },
  {
   "cell_type": "markdown",
   "id": "4e1391f8",
   "metadata": {},
   "source": [
    "keys()\n",
    "\n",
    "Returns a view object that displays a list of all the keys in the dictionary."
   ]
  },
  {
   "cell_type": "code",
   "execution_count": 5,
   "id": "750ac479",
   "metadata": {},
   "outputs": [
    {
     "name": "stdout",
     "output_type": "stream",
     "text": [
      "dict_keys(['name', 'age', 'city'])\n"
     ]
    }
   ],
   "source": [
    "person = {\"name\": \"Bob\", \"age\": 25, \"city\": \"London\"}\n",
    "\n",
    "print(person.keys())"
   ]
  },
  {
   "cell_type": "markdown",
   "id": "2e202e9f",
   "metadata": {},
   "source": [
    "values()\n",
    "\n",
    "Returns a view object that displays a list of all the values in the dictionary.\n"
   ]
  },
  {
   "cell_type": "code",
   "execution_count": 6,
   "id": "086be8c5",
   "metadata": {},
   "outputs": [
    {
     "name": "stdout",
     "output_type": "stream",
     "text": [
      "dict_values(['Bob', 25, 'London'])\n"
     ]
    }
   ],
   "source": [
    "person = {\"name\": \"Bob\", \"age\": 25, \"city\": \"London\"}\n",
    "\n",
    "print(person.values())"
   ]
  },
  {
   "cell_type": "markdown",
   "id": "71861558",
   "metadata": {},
   "source": [
    "items()\n",
    "\n",
    "Returns a view object that displays a list of dictionary's key-value tuple pairs.\n"
   ]
  },
  {
   "cell_type": "code",
   "execution_count": 7,
   "id": "54d2f963",
   "metadata": {},
   "outputs": [
    {
     "name": "stdout",
     "output_type": "stream",
     "text": [
      "dict_items([('name', 'Bob'), ('age', 25), ('city', 'London')])\n"
     ]
    }
   ],
   "source": [
    "person = {\"name\": \"Bob\", \"age\": 25, \"city\": \"London\"}\n",
    "\n",
    "print(person.items())"
   ]
  },
  {
   "cell_type": "markdown",
   "id": "d779591c",
   "metadata": {},
   "source": [
    "get(key, default)\n",
    "\n",
    "Returns the value for the specified key if it exists in the dictionary. If the key is not found, it returns the default value (or None if default is not specified)."
   ]
  },
  {
   "cell_type": "code",
   "execution_count": 10,
   "id": "e9f7bf46",
   "metadata": {},
   "outputs": [
    {
     "name": "stdout",
     "output_type": "stream",
     "text": [
      "25\n",
      "na\n"
     ]
    }
   ],
   "source": [
    "person = {\"name\": \"Bob\", \"age\": 25, \"city\": \"London\"}\n",
    "\n",
    "age = person.get(\"age\")\n",
    "print(age)\n",
    "\n",
    "age = person.get(\"state\",\"na\")\n",
    "print(age)"
   ]
  },
  {
   "cell_type": "markdown",
   "id": "afb78eb7",
   "metadata": {},
   "source": [
    "update(other_dict)\n",
    "\n",
    "Updates the dictionary with the key-value pairs from another dictionary or iterable."
   ]
  },
  {
   "cell_type": "code",
   "execution_count": 15,
   "id": "c027401d",
   "metadata": {},
   "outputs": [
    {
     "name": "stdout",
     "output_type": "stream",
     "text": [
      "{'name': 'Bob', 'age': 25, 'city': 'London', 'occupation': 'Teacher'}\n"
     ]
    }
   ],
   "source": [
    "person = {\"name\": \"Bob\", \"age\": 25, \"city\": \"London\"}\n",
    "\n",
    "person.update({\"occupation\": \"Teacher\"})\n",
    "print(person)"
   ]
  },
  {
   "cell_type": "markdown",
   "id": "5e2c96c2",
   "metadata": {},
   "source": [
    "pop(key, default)\n",
    "\n",
    "Removes the item with the specified key and returns its value. If the key is not found, it returns the default value (or raises a KeyError if default is not specified).\n"
   ]
  },
  {
   "cell_type": "code",
   "execution_count": 16,
   "id": "9ffa8fda",
   "metadata": {},
   "outputs": [
    {
     "name": "stdout",
     "output_type": "stream",
     "text": [
      "London\n",
      "{'name': 'Bob', 'age': 25, 'occupation': 'Teacher'}\n"
     ]
    }
   ],
   "source": [
    "city = person.pop(\"city\")\n",
    "print(city)\n",
    "print(person)"
   ]
  },
  {
   "cell_type": "markdown",
   "id": "2591f8ab",
   "metadata": {},
   "source": [
    "clear()\n",
    "\n",
    "Removes all items from the dictionary."
   ]
  },
  {
   "cell_type": "code",
   "execution_count": 17,
   "id": "213758ad",
   "metadata": {},
   "outputs": [
    {
     "name": "stdout",
     "output_type": "stream",
     "text": [
      "{}\n"
     ]
    }
   ],
   "source": [
    "person.clear()\n",
    "print(person)"
   ]
  }
 ],
 "metadata": {
  "kernelspec": {
   "display_name": "Python 3",
   "language": "python",
   "name": "python3"
  },
  "language_info": {
   "codemirror_mode": {
    "name": "ipython",
    "version": 3
   },
   "file_extension": ".py",
   "mimetype": "text/x-python",
   "name": "python",
   "nbconvert_exporter": "python",
   "pygments_lexer": "ipython3",
   "version": "3.12.3"
  }
 },
 "nbformat": 4,
 "nbformat_minor": 5
}
