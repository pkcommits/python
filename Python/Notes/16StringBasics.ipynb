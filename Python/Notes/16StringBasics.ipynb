{
 "cells": [
  {
   "cell_type": "markdown",
   "id": "2c8c1e5b",
   "metadata": {},
   "source": [
    "### String Basics\n",
    "\n",
    "Strings in Python are sequences of characters used to represent text. They are immutable, meaning their values cannot be changed after creation. Strings are defined using single quotes ('...'), double quotes (\"...\"), or triple quotes (\"\"\"...\"\"\" or '''...''') for multi-line strings."
   ]
  },
  {
   "cell_type": "markdown",
   "id": "8a7d35f8",
   "metadata": {},
   "source": [
    "#### String Indexing\n",
    "\n",
    "String indexing in Python allows accessing individual characters within a string using their position, or index. Python strings are zero-indexed, meaning the first character is at index 0, the second at index 1, and so on. Negative indexing can also be used, where -1 refers to the last character, -2 to the second last, and so on.\n",
    "\n",
    "To access a character at a specific index, use square brackets [] with the index number inside"
   ]
  },
  {
   "cell_type": "code",
   "execution_count": null,
   "id": "eea4b53e",
   "metadata": {},
   "outputs": [],
   "source": [
    "my_string = \"Hello\"\n",
    "print(my_string[0])  # Output: H\n",
    "print(my_string[4])  # Output: o\n",
    "print(my_string[-1]) # Output: o"
   ]
  },
  {
   "cell_type": "code",
   "execution_count": null,
   "id": "25d7dd94",
   "metadata": {},
   "outputs": [],
   "source": [
    "# Negative Indexing\n",
    "\n",
    "s = \"Python\"\n",
    "\n",
    "# Index:  -6 -5 -4 -3 -2 -1\n",
    "# Letter:  P  y  t  h  o  n\n",
    "\n",
    "print(s[-1])  # 'n'\n",
    "print(s[-3])  # 'h'"
   ]
  },
  {
   "cell_type": "markdown",
   "id": "6671f97c",
   "metadata": {},
   "source": [
    "#### String Slicing\n",
    "\n",
    "String slicing extends indexing to extract substrings. It uses a colon : to specify a range of indices [start:end]. The character at the end index is not included. If start is omitted, it defaults to 0, and if end is omitted, it defaults to the string's length.\n",
    "\n",
    "start = index to start from (inclusive)\n",
    "\n",
    "stop = index to stop before (exclusive)\n",
    "\n",
    "step = how many steps to move (optional)"
   ]
  },
  {
   "cell_type": "code",
   "execution_count": 3,
   "id": "b32ade56",
   "metadata": {},
   "outputs": [
    {
     "name": "stdout",
     "output_type": "stream",
     "text": [
      "Hello\n",
      "World\n",
      "Hello\n",
      "Hello World\n"
     ]
    }
   ],
   "source": [
    "my_string = \"Hello World\"\n",
    "print(my_string[0:5])  # Output: Hello\n",
    "print(my_string[6:])   # Output: World\n",
    "print(my_string[:5])   # Output: Hello\n",
    "print(my_string[:])    # Output: Hello World"
   ]
  },
  {
   "cell_type": "markdown",
   "id": "8e6db268",
   "metadata": {},
   "source": [
    "A third optional argument can be added to the slice for the step: [start:end:step]."
   ]
  },
  {
   "cell_type": "code",
   "execution_count": null,
   "id": "e8dac748",
   "metadata": {},
   "outputs": [],
   "source": [
    "my_string = \"Hello World\"\n",
    "print(my_string[::2]) # Output: HloWrd\n",
    "\n",
    "#Negative steps can also be used to reverse the string:\n",
    "\n",
    "my_string = \"Hello World\"\n",
    "print(my_string[::-1]) # Output: dlroW olleH"
   ]
  },
  {
   "cell_type": "markdown",
   "id": "f9389e04",
   "metadata": {},
   "source": [
    "#### len()\n",
    "\n",
    "The len() function in Python is a built-in function that returns the number of items in an object. It can be used with various data types, including strings, lists, tuples, and dictionaries. The function takes a single argument, which is the object whose length is to be determined, and returns an integer representing the number of items in that object. \n"
   ]
  },
  {
   "cell_type": "code",
   "execution_count": null,
   "id": "205f70f1",
   "metadata": {},
   "outputs": [],
   "source": [
    "string_example = \"Hello\"\n",
    "list_example = [1, 2, 3, 4, 5]\n",
    "tuple_example = (6, 7, 8)\n",
    "dict_example = {\"a\": 1, \"b\": 2, \"c\": 3}\n",
    "\n",
    "print(len(string_example))  # Output: 5\n",
    "print(len(list_example))  # Output: 5\n",
    "print(len(tuple_example))  # Output: 3\n",
    "print(len(dict_example))  # Output: 3"
   ]
  }
 ],
 "metadata": {
  "kernelspec": {
   "display_name": "Python 3",
   "language": "python",
   "name": "python3"
  },
  "language_info": {
   "codemirror_mode": {
    "name": "ipython",
    "version": 3
   },
   "file_extension": ".py",
   "mimetype": "text/x-python",
   "name": "python",
   "nbconvert_exporter": "python",
   "pygments_lexer": "ipython3",
   "version": "3.12.3"
  }
 },
 "nbformat": 4,
 "nbformat_minor": 5
}
