{
 "cells": [
  {
   "cell_type": "markdown",
   "id": "827de1eb",
   "metadata": {},
   "source": [
    "### String Methods"
   ]
  },
  {
   "cell_type": "markdown",
   "id": "a83f1b20",
   "metadata": {},
   "source": [
    "#### upper()\n",
    "\n",
    "Converts all characters in the string to uppercase."
   ]
  },
  {
   "cell_type": "code",
   "execution_count": null,
   "id": "020baae4",
   "metadata": {},
   "outputs": [],
   "source": [
    "s = \"hello world\"\n",
    "print(s.upper())  # 'HELLO WORLD'"
   ]
  },
  {
   "cell_type": "markdown",
   "id": "3074387c",
   "metadata": {},
   "source": [
    "#### lower()\n",
    "\n",
    "Converts all characters to lowercase."
   ]
  },
  {
   "cell_type": "code",
   "execution_count": null,
   "id": "8f957b1f",
   "metadata": {},
   "outputs": [],
   "source": [
    "s = \"Hello WORLD\"\n",
    "print(s.lower())  # 'hello world'\n"
   ]
  },
  {
   "cell_type": "markdown",
   "id": "037692cf",
   "metadata": {},
   "source": [
    "#### strip()\n",
    "\n",
    "Removes leading and trailing whitespaces (not inner spaces)."
   ]
  },
  {
   "cell_type": "code",
   "execution_count": null,
   "id": "458263cd",
   "metadata": {},
   "outputs": [],
   "source": [
    "s = \"   hello world   \"\n",
    "print(s.strip())  # 'hello world'"
   ]
  },
  {
   "cell_type": "markdown",
   "id": "3405b0f9",
   "metadata": {},
   "source": [
    "#### find()\n",
    "\n",
    "Returns the index of the first occurrence of a substring."
   ]
  },
  {
   "cell_type": "code",
   "execution_count": null,
   "id": "1dff01bb",
   "metadata": {},
   "outputs": [],
   "source": [
    "s = \"hello world\"\n",
    "print(s.find(\"world\"))   # 6\n",
    "print(s.find(\"x\"))       # -1 (not found)\n"
   ]
  },
  {
   "cell_type": "markdown",
   "id": "d3820e00",
   "metadata": {},
   "source": [
    "#### replace()\n",
    "\n",
    "Replaces all occurrences of a substring with another string."
   ]
  },
  {
   "cell_type": "code",
   "execution_count": null,
   "id": "d2baf744",
   "metadata": {},
   "outputs": [],
   "source": [
    "s = \"I love Java\"\n",
    "print(s.replace(\"Java\", \"Python\"))  # 'I love Python'\n"
   ]
  },
  {
   "cell_type": "code",
   "execution_count": null,
   "id": "df10856d",
   "metadata": {},
   "outputs": [],
   "source": [
    "text = \"apple apple apple\"\n",
    "print(text.replace(\"apple\", \"orange\", 2))  # 'orange orange apple'\n"
   ]
  },
  {
   "cell_type": "markdown",
   "id": "0eee6078",
   "metadata": {},
   "source": [
    "#### split()\n",
    "\n",
    "Splits the string into a list based on a delimiter."
   ]
  },
  {
   "cell_type": "code",
   "execution_count": null,
   "id": "f21857d9",
   "metadata": {},
   "outputs": [],
   "source": [
    "s = \"apple,banana,orange\"\n",
    "print(s.split(\",\"))  # ['apple', 'banana', 'orange']"
   ]
  },
  {
   "cell_type": "markdown",
   "id": "9e0b5773",
   "metadata": {},
   "source": [
    "#### join()\n",
    "\n",
    "Joins elements of a list into a single string using a delimiter."
   ]
  },
  {
   "cell_type": "code",
   "execution_count": null,
   "id": "6d2b9aed",
   "metadata": {},
   "outputs": [],
   "source": [
    "fruits = ['apple', 'banana', 'orange']\n",
    "print(\", \".join(fruits))  # 'apple, banana, orange'\n"
   ]
  }
 ],
 "metadata": {
  "kernelspec": {
   "display_name": "Python 3",
   "language": "python",
   "name": "python3"
  },
  "language_info": {
   "name": "python",
   "version": "3.12.3"
  }
 },
 "nbformat": 4,
 "nbformat_minor": 5
}
