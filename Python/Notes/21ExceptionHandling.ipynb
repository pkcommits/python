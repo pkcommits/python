{
 "cells": [
  {
   "cell_type": "markdown",
   "id": "ae882ce9",
   "metadata": {},
   "source": [
    "### Basic Exception Handling\n",
    "\n",
    "Python Exception Handling handles errors that occur during the execution of a program. Exception handling allows to respond to the error, instead of crashing the running program. It enables you to catch and manage errors, making your code more robust and user-friendly. Let’s look at an example:"
   ]
  },
  {
   "cell_type": "markdown",
   "id": "a6f035f5",
   "metadata": {},
   "source": [
    "#### Difference Between Exception and Error\n",
    "\n",
    "Error: Errors are serious issues that a program should not try to handle. They are usually problems in the code’s logic or configuration and need to be fixed by the programmer. Examples include syntax errors and memory errors.\n",
    "\n",
    "Exception: Exceptions are less severe than errors and can be handled by the program. They occur due to situations like invalid input, missing files or network issues.\n",
    "\n",
    "Exception handling in Python is done using the try, except, else and finally blocks."
   ]
  },
  {
   "cell_type": "code",
   "execution_count": null,
   "id": "c0993aa9",
   "metadata": {},
   "outputs": [],
   "source": [
    "try:\n",
    "      # Code that might raise an exception\n",
    "except SomeException:\n",
    "      # Code to handle the exception\n",
    "else:\n",
    "     # Code to run if no exception occurs\n",
    "finally:\n",
    "    # Code to run regardless of whether an exception occurs"
   ]
  },
  {
   "cell_type": "markdown",
   "id": "bd933037",
   "metadata": {},
   "source": [
    "#### try, except, else and finally Blocks\n",
    "\n",
    "try Block: try block lets us test a block of code for errors. Python will “try” to execute the code in this block. If an exception occurs, execution will immediately jump to the except block.\n",
    "\n",
    "except Block: except block enables us to handle the error or exception. If the code inside the try block throws an error, Python jumps to the except block and executes it. We can handle specific exceptions or use a general except to catch all exceptions.\n",
    "\n",
    "else block: is optional and if included, must follow all except blocks. The else block runs only if no exceptions are raised in the try block. This is useful for code that should execute if the try block succeeds.\n",
    "\n",
    "finally Block: finally block always runs, regardless of whether an exception occurred or not. It is typically used for cleanup operations (closing files, releasing resources)."
   ]
  },
  {
   "cell_type": "code",
   "execution_count": null,
   "id": "a9a93655",
   "metadata": {},
   "outputs": [],
   "source": [
    "try:\n",
    "    # Code that might raise an exception\n",
    "    result = 10 / 0\n",
    "except ZeroDivisionError as e:\n",
    "    # Handle the exception\n",
    "    print(f\"Error: {e}\")\n",
    "except TypeError as e:\n",
    "    print(f\"Type error: {e}\")\n",
    "except Exception as e:\n",
    "    print(f\"An unexpected error occurred: {e}\")\n",
    "else:\n",
    "    # Code to execute if no exception occurs\n",
    "    print(f\"Result: {result}\")\n",
    "finally:\n",
    "    # Code that always executes\n",
    "    print(\"Finally block executed\")"
   ]
  },
  {
   "cell_type": "markdown",
   "id": "f1fbfabe",
   "metadata": {},
   "source": [
    "Raise\n",
    "\n",
    "The raise statement in Python is used to signal that an exception has occurred. It allows you to interrupt the normal flow of the program and transfer control to an exception handler. The basic syntax is raise ExceptionType(\"Error message\"), where ExceptionType is the type of exception to be raised (e.g., ValueError, TypeError) and \"Error message\" is an optional message describing the error."
   ]
  },
  {
   "cell_type": "code",
   "execution_count": null,
   "id": "b5d5b5c1",
   "metadata": {},
   "outputs": [],
   "source": [
    "def divide(x, y):\n",
    "    if y == 0:\n",
    "        raise ZeroDivisionError(\"Cannot divide by zero\")\n",
    "    return x / y\n",
    "\n",
    "try:\n",
    "    result = divide(10, 0)\n",
    "except ZeroDivisionError as e:\n",
    "    print(f\"Error: {e}\")\n",
    "\n",
    "# Prints: Error: Cannot divide by zero"
   ]
  },
  {
   "cell_type": "markdown",
   "id": "0e5dbf84",
   "metadata": {},
   "source": [
    "You can also raise custom exceptions by defining your own exception classes. Additionally, raise can be used without arguments inside an except block to re-raise the caught exception"
   ]
  },
  {
   "cell_type": "markdown",
   "id": "b5580970",
   "metadata": {},
   "source": [
    "In Python, a library is a collection of pre-written code that provides functions and methods for performing specific tasks. To use a library, it must first be imported using the import statement. There are several ways to import libraries in Python:\n",
    "import library_name:\n",
    "\n",
    "This imports the entire library, and its functions and methods can be accessed using the syntax library_name.function_name().\n",
    "import library_name as alias:\n",
    "\n",
    "This imports the entire library and assigns it an alias, which can be used to access its functions and methods using the syntax alias.function_name().\n",
    "from library_name import function_name:\n",
    "\n",
    "This imports only the specified function from the library, and it can be accessed directly using the syntax function_name().\n",
    "from library_name import *:\n",
    "\n",
    "This imports all functions from the library, and they can be accessed directly using their names. However, this approach is generally discouraged as it can lead to namespace conflicts."
   ]
  },
  {
   "cell_type": "code",
   "execution_count": null,
   "id": "776eaaa3",
   "metadata": {},
   "outputs": [],
   "source": [
    "# Import the math library\n",
    "import math\n",
    "\n",
    "# Calculate the square root of 25\n",
    "result = math.sqrt(25)\n",
    "print(result)  # Output: 5.0\n",
    "\n",
    "# Import the random library with an alias\n",
    "import random as rnd\n",
    "\n",
    "# Generate a random integer between 1 and 10\n",
    "random_number = rnd.randint(1, 10)\n",
    "print(random_number)\n",
    "\n",
    "# Import the pi constant from the math library\n",
    "from math import pi\n",
    "\n",
    "# Calculate the area of a circle with radius 5\n",
    "area = pi * 5**2\n",
    "print(area)  # Output: 78.53981633974483"
   ]
  }
 ],
 "metadata": {
  "kernelspec": {
   "display_name": "base",
   "language": "python",
   "name": "python3"
  },
  "language_info": {
   "name": "python",
   "version": "3.11.5"
  }
 },
 "nbformat": 4,
 "nbformat_minor": 5
}
