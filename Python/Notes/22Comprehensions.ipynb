{
 "cells": [
  {
   "cell_type": "markdown",
   "id": "9344c985",
   "metadata": {},
   "source": [
    "#### Dictionary & Set Comprehensions\n",
    "\n",
    "Dictionary and set comprehensions offer concise ways to create dictionaries and sets in Python. They provide a more readable and efficient alternative to traditional loops."
   ]
  },
  {
   "cell_type": "markdown",
   "id": "05b592a3",
   "metadata": {},
   "source": [
    "### Dictionary Comprehension\n",
    "\n",
    "Dictionary comprehension constructs a new dictionary by applying an expression to items from an iterable. Its basic syntax is:\n",
    "\n",
    "Syntax: {key: value for item in iterable if condition}"
   ]
  },
  {
   "cell_type": "code",
   "execution_count": 1,
   "id": "f5b5c1e3",
   "metadata": {},
   "outputs": [
    {
     "name": "stdout",
     "output_type": "stream",
     "text": [
      "{0: 0, 1: 1, 2: 4, 3: 9, 4: 16, 5: 25, 6: 36, 7: 49, 8: 64, 9: 81}\n"
     ]
    }
   ],
   "source": [
    "squares = {x: x**2 for x in range(10)}\n",
    "print(squares)"
   ]
  },
  {
   "cell_type": "markdown",
   "id": "03358aee",
   "metadata": {},
   "source": [
    "#### Set Comprehension\n",
    "Set comprehension is similar to dictionary comprehension but creates a set instead. \n",
    "\n",
    " syntax: {expression for item in iterable if condition}"
   ]
  },
  {
   "cell_type": "code",
   "execution_count": 4,
   "id": "62eead1b",
   "metadata": {},
   "outputs": [
    {
     "name": "stdout",
     "output_type": "stream",
     "text": [
      "{2, 4, 6, 8, 10}\n"
     ]
    }
   ],
   "source": [
    "numbers = [1, 2, 3, 4, 5, 6, 7, 8, 9, 10, 10]\n",
    "even_numbers = {x for x in numbers if x % 2 == 0}\n",
    "print(even_numbers)"
   ]
  }
 ],
 "metadata": {
  "kernelspec": {
   "display_name": "base",
   "language": "python",
   "name": "python3"
  },
  "language_info": {
   "codemirror_mode": {
    "name": "ipython",
    "version": 3
   },
   "file_extension": ".py",
   "mimetype": "text/x-python",
   "name": "python",
   "nbconvert_exporter": "python",
   "pygments_lexer": "ipython3",
   "version": "3.11.5"
  }
 },
 "nbformat": 4,
 "nbformat_minor": 5
}
