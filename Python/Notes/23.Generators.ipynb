{
 "cells": [
  {
   "cell_type": "markdown",
   "id": "ab12b1af",
   "metadata": {},
   "source": [
    "#### Generator Functions\n",
    "\n",
    "Generator functions in Python are defined similarly to regular functions, but they use the yield keyword instead of return. When a generator function is called, it doesn't execute immediately. Instead, it returns a generator object, which is an iterator. The yield keyword pauses the function's execution and returns a value to the caller. When the next value is requested from the generator, the function resumes execution from where it left off, continuing until the next yield statement is encountered"
   ]
  },
  {
   "cell_type": "code",
   "execution_count": 1,
   "id": "afb90b8c",
   "metadata": {},
   "outputs": [
    {
     "name": "stdout",
     "output_type": "stream",
     "text": [
      "0\n",
      "1\n",
      "2\n"
     ]
    }
   ],
   "source": [
    "def my_generator(n):\n",
    "    i = 0\n",
    "    while i < n:\n",
    "        yield i\n",
    "        i += 1\n",
    "\n",
    "gen = my_generator(3)\n",
    "\n",
    "print(next(gen))  # Output: 0\n",
    "print(next(gen))  # Output: 1\n",
    "print(next(gen))  # Output: 2\n",
    "# print(next(gen))  # Raises StopIteration as there are no more values to yield"
   ]
  }
 ],
 "metadata": {
  "kernelspec": {
   "display_name": "base",
   "language": "python",
   "name": "python3"
  },
  "language_info": {
   "codemirror_mode": {
    "name": "ipython",
    "version": 3
   },
   "file_extension": ".py",
   "mimetype": "text/x-python",
   "name": "python",
   "nbconvert_exporter": "python",
   "pygments_lexer": "ipython3",
   "version": "3.11.5"
  }
 },
 "nbformat": 4,
 "nbformat_minor": 5
}
