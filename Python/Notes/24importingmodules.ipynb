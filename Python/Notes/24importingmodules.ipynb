{
 "cells": [
  {
   "cell_type": "markdown",
   "id": "92e753c5",
   "metadata": {},
   "source": [
    "#### Importing modules\n",
    "\n",
    "math"
   ]
  },
  {
   "cell_type": "markdown",
   "id": "e4e31f2b",
   "metadata": {},
   "source": [
    "Python has a built-in math module that provides access to a wide range of mathematical functions. To use it, import the module using import math. Some of the commonly used functions include:\n",
    "\n",
    "math.sqrt(x): Returns the square root of x.\n",
    "\n",
    "math.ceil(x): Returns the smallest integer greater than or equal to x.\n",
    "\n",
    "math.floor(x): Returns the largest integer less than or equal to x.\n",
    "\n",
    "math.pow(x, y): Returns x raised to the power of y."
   ]
  },
  {
   "cell_type": "code",
   "execution_count": null,
   "id": "1e562925",
   "metadata": {},
   "outputs": [],
   "source": [
    "import math\n",
    "\n",
    "x = 16\n",
    "y = 3\n",
    "print(math.sqrt(x))  # Output: 4.0\n",
    "print(math.pow(x, y)) # Output: 4096.0\n",
    "print(math.log(x))  # Output: 2.772588722239781\n",
    "print(math.sin(math.pi / 2))  # Output: 1.0\n",
    "print(math.ceil(4.2)) # Output: 5\n",
    "print(math.floor(4.8)) # Output: 4"
   ]
  },
  {
   "cell_type": "markdown",
   "id": "85c61b24",
   "metadata": {},
   "source": [
    "random\n",
    "\n",
    "The random module in Python is used for generating pseudo-random numbers. It offers various functions for different types of random number generation, including integers, floating-point numbers, and selections from sequences. It is suitable for simulations, games, and testing purposes. For security-sensitive applications, the secrets module is recommended instead. "
   ]
  },
  {
   "cell_type": "code",
   "execution_count": null,
   "id": "c41657fc",
   "metadata": {},
   "outputs": [],
   "source": [
    "import random\n",
    "print(random.random())"
   ]
  },
  {
   "cell_type": "markdown",
   "id": "717f3687",
   "metadata": {},
   "source": [
    "datetime\n",
    "\n",
    "The datetime module in Python is used to work with dates and times. It provides classes for manipulating dates and times in various ways. To use the Gemini API with Python, you might need to handle date and time information, and datetime can be useful for this."
   ]
  },
  {
   "cell_type": "code",
   "execution_count": null,
   "id": "f9cc17d7",
   "metadata": {},
   "outputs": [],
   "source": [
    "import datetime\n",
    "now = datetime.datetime.now()\n",
    "print(now)"
   ]
  },
  {
   "cell_type": "code",
   "execution_count": null,
   "id": "25e29d38",
   "metadata": {},
   "outputs": [],
   "source": [
    "# Format datetime objects as strings.\n",
    "now = datetime.datetime.now()\n",
    "formatted_date = now.strftime(\"%Y-%m-%d %H:%M:%S\") # Year-month-day Hour:Minute:Second\n",
    "print(formatted_date)"
   ]
  },
  {
   "cell_type": "code",
   "execution_count": null,
   "id": "e77360ea",
   "metadata": {},
   "outputs": [],
   "source": [
    "# Parse strings into datetime objects.\n",
    "date_string = \"2025-05-01 10:30:00\"\n",
    "dt = datetime.datetime.strptime(date_string, \"%Y-%m-%d %H:%M:%S\")\n",
    "print(dt)"
   ]
  },
  {
   "cell_type": "code",
   "execution_count": null,
   "id": "56bb6919",
   "metadata": {},
   "outputs": [],
   "source": [
    "# Perform calculations with datetime objects.\n",
    "now = datetime.datetime.now()\n",
    "one_day = datetime.timedelta(days=1)\n",
    "tomorrow = now + one_day\n",
    "print(tomorrow)"
   ]
  },
  {
   "cell_type": "markdown",
   "id": "9f5e1e4e",
   "metadata": {},
   "source": [
    "__main__\n",
    "\n",
    "In Python, __main__ serves as the name of the environment where the top-level code executes. This is typically the first user-specified Python module run, acting as the program's entry point. When a Python file is run directly, its __name__ variable is set to __main__. However, if the file is imported as a module into another script, its __name__ becomes the module's actual name.\n",
    "\n",
    "This distinction is crucial for several reasons:\n",
    "\n",
    "Conditional Execution:\n",
    "\n",
    "It allows for code to be executed only when the file is run directly, not when imported. This is often used for testing or providing a command-line interface to a module.\n",
    "\n",
    "Module vs. Script Behavior:\n",
    "\n",
    "It differentiates between a file being used as a standalone script and being used as a library module.\n",
    "\n",
    "Multiprocessing:\n",
    "\n",
    "In multiprocessing, child processes may also have their __name__ set to __mp_main__, indicating they are running as part of a multiprocessing execution.\n",
    "\n",
    "To use __main__, you typically structure your Python code like this:"
   ]
  },
  {
   "cell_type": "code",
   "execution_count": null,
   "id": "65a4d1d5",
   "metadata": {},
   "outputs": [],
   "source": [
    "def my_function():\n",
    "    # Function code here\n",
    "    print(\"Function executed\")\n",
    "\n",
    "if __name__ == \"__main__\":\n",
    "    # Code to run when the script is executed directly\n",
    "    my_function()\n",
    "    print(\"Script executed\")"
   ]
  },
  {
   "cell_type": "markdown",
   "id": "ff7bda34",
   "metadata": {},
   "source": [
    "In this example, my_function() and print(\"Script executed\") will only run if the script is executed directly. If imported as a module, only my_function will be defined, and the code within the if __name__ == \"__main__\": block will be skipped."
   ]
  },
  {
   "cell_type": "markdown",
   "id": "d5c89c9b",
   "metadata": {},
   "source": [
    "__pycache__ \n",
    "\n",
    "The __pycache__ directory in Python is used to store compiled bytecode files. When a Python script is executed, the interpreter first compiles it into bytecode, which is a lower-level representation of the code that can be executed more efficiently. This compilation process happens automatically, and the resulting bytecode files are stored in the __pycache__ directory.\n",
    "\n",
    "The purpose of __pycache__ is to speed up the execution of Python scripts. When a script is run for the first time, it is compiled and the bytecode is saved in __pycache__. Subsequent runs of the same script can then skip the compilation step and directly execute the bytecode, which is faster.\n"
   ]
  }
 ],
 "metadata": {
  "kernelspec": {
   "display_name": "base",
   "language": "python",
   "name": "python3"
  },
  "language_info": {
   "name": "python",
   "version": "3.11.5"
  }
 },
 "nbformat": 4,
 "nbformat_minor": 5
}
