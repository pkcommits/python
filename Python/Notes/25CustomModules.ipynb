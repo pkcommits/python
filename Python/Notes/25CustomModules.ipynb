{
 "cells": [
  {
   "cell_type": "markdown",
   "id": "a31c02a3",
   "metadata": {},
   "source": [
    "#### Creating and Importing Custom Modules\n",
    "\n",
    "Creating and importing custom modules in Python allows for code organization and reusability. A module is simply a Python file containing functions, classes, or variables.\n",
    "\n",
    "Create a Python file: For instance, my_module.py.\n",
    "Define functions, classes, or variables:"
   ]
  },
  {
   "cell_type": "code",
   "execution_count": null,
   "id": "d75154cb",
   "metadata": {},
   "outputs": [],
   "source": [
    "    # my_module.py\n",
    "    def greet(name):\n",
    "        return f\"Hello, {name}!\"\n",
    "    \n",
    "    class Dog:\n",
    "        def __init__(self, name):\n",
    "            self.name = name\n",
    "        \n",
    "        def bark(self):\n",
    "            return \"Woof!\""
   ]
  },
  {
   "cell_type": "markdown",
   "id": "86f4f04f",
   "metadata": {},
   "source": [
    "#### Importing a Module\n",
    "Place the module file in the same directory: as your main script, or in a directory that Python can find (e.g., in sys.path).\n",
    "\n",
    "Use the import statement:"
   ]
  },
  {
   "cell_type": "code",
   "execution_count": null,
   "id": "7abfe1d1",
   "metadata": {},
   "outputs": [],
   "source": [
    "    # main.py\n",
    "    import my_module\n",
    "    \n",
    "    print(my_module.greet(\"Alice\"))\n",
    "    \n",
    "    my_dog = my_module.Dog(\"Buddy\")\n",
    "    print(my_dog.bark())"
   ]
  },
  {
   "cell_type": "markdown",
   "id": "b3b746ae",
   "metadata": {},
   "source": [
    "Alternative import methods:\n",
    "\n",
    "from my_module import greet: Imports only the greet function.\n",
    "\n",
    "from my_module import *: Imports all names (not recommended for large modules).\n",
    "\n",
    "import my_module as mm: Imports the module with an alias."
   ]
  },
  {
   "cell_type": "markdown",
   "id": "351b546b",
   "metadata": {},
   "source": [
    "#### Executing Modules as Scripts\n",
    "\n",
    "Modules can be run as standalone scripts. To control execution when a module is run directly versus when it's imported, use the if __name__ == \"__main__\": block:"
   ]
  },
  {
   "cell_type": "code",
   "execution_count": null,
   "id": "ba96e296",
   "metadata": {},
   "outputs": [],
   "source": [
    "# my_module.py\n",
    "def greet(name):\n",
    "    return f\"Hello, {name}!\"\n",
    "\n",
    "if __name__ == \"__main__\":\n",
    "    print(greet(\"Direct run\"))"
   ]
  },
  {
   "cell_type": "markdown",
   "id": "73fc8fb3",
   "metadata": {},
   "source": [
    "When you run python my_module.py, it will print \"Hello, Direct run!\". When imported, this block will not execute."
   ]
  },
  {
   "cell_type": "markdown",
   "id": "85d257aa",
   "metadata": {},
   "source": [
    "#### Packaging Your Code into Libraries\n",
    "\n",
    "Packaging your Python code into a library means organizing your code and dependencies so it can be easily shared, installed, and reused—either by yourself or others. Python libraries (or packages) are often distributed via PyPI (Python Package Index) using tools like setuptools or poetry."
   ]
  },
  {
   "cell_type": "markdown",
   "id": "d2d71106",
   "metadata": {},
   "source": [
    "Basic Structure of a Python Package\n",
    "\n",
    "\n",
    "my_library/\n",
    "├── my_library/         # Package source code\n",
    "│   ├── __init__.py     # Marks this directory as a package\n",
    "│   ├── module1.py\n",
    "│   └── module2.py\n",
    "├── tests/              # Unit tests\n",
    "│   └── test_module1.py\n",
    "├── setup.py            # Build script (metadata + config)\n",
    "├── README.md           # Project description\n",
    "├── LICENSE             # License file\n",
    "└── requirements.txt    # Optional: external dependencies\n"
   ]
  },
  {
   "cell_type": "markdown",
   "id": "d81407cd",
   "metadata": {},
   "source": [
    "#### setup.py\n",
    "\n",
    "setup.py is a build script for packaging your Python project.\n",
    "\n",
    "It tells pip and other Python tools:\n",
    "\n",
    "what your project is\n",
    "\n",
    "what files to include\n",
    "\n",
    "what dependencies it needs\n",
    "\n",
    "how to install it\n",
    "\n",
    "In short:\n",
    "✅ It packages your code\n",
    "✅ It installs your project like a library\n",
    "✅ It uploads your project to PyPI if you want"
   ]
  },
  {
   "cell_type": "code",
   "execution_count": null,
   "id": "f4153715",
   "metadata": {},
   "outputs": [],
   "source": [
    "# Basic Structure of setup.py\n",
    "\n",
    "from setuptools import setup\n",
    "\n",
    "setup(\n",
    "    name=\"my_cool_library\",\n",
    "    version=\"0.1\",\n",
    "    description=\"A simple, cool Python library\",\n",
    "    author=\"Your Name\",\n",
    "    packages=[\"my_cool_library\"],\n",
    "    install_requires=[\n",
    "        \"requests\",  # external dependency\n",
    "        \"pandas\"     # another dependency\n",
    "    ],\n",
    ")"
   ]
  },
  {
   "cell_type": "markdown",
   "id": "ad3d392d",
   "metadata": {},
   "source": [
    "#### dunder methods\n",
    "\n",
    "_str__ and __repr__ are dunder (double underscore) methods in Python used to define how objects are represented as strings. \n",
    "\n",
    "__str__(self): This method returns a user-friendly, informal string representation of an object. It is called by the built-in str() function and the print() statement. If __str__ is not defined, Python falls back to using __repr__ if it's available. \n",
    "\n",
    "__repr__(self): This method returns a more technical, unambiguous string representation of an object, primarily for debugging and development.\n",
    "\n",
    " Ideally, the string returned by __repr__ should be a valid Python expression that can be used to recreate the object using eval(). If __repr__ is defined but __str__ is not, __str__ will also use __repr__'s output. \n",
    "Python\n",
    "\n"
   ]
  },
  {
   "cell_type": "code",
   "execution_count": 1,
   "id": "ce8f4f9b",
   "metadata": {},
   "outputs": [
    {
     "name": "stdout",
     "output_type": "stream",
     "text": [
      "\"The Hitchhiker's Guide to the Galaxy\" by Douglas Adams\n",
      "Book('The Hitchhiker's Guide to the Galaxy', 'Douglas Adams')\n"
     ]
    }
   ],
   "source": [
    "class Book:\n",
    "    def __init__(self, title, author):\n",
    "        self.title = title\n",
    "        self.author = author\n",
    "\n",
    "    def __str__(self):\n",
    "        return f'\"{self.title}\" by {self.author}'\n",
    "\n",
    "    def __repr__(self):\n",
    "        return f\"Book('{self.title}', '{self.author}')\"\n",
    "\n",
    "book = Book(\"The Hitchhiker's Guide to the Galaxy\", \"Douglas Adams\")\n",
    "\n",
    "print(str(book))  # Output: \"The Hitchhiker's Guide to the Galaxy\" by Douglas Adams\n",
    "print(repr(book)) # Output: Book('The Hitchhiker's Guide to the Galaxy', 'Douglas Adams')"
   ]
  }
 ],
 "metadata": {
  "kernelspec": {
   "display_name": "base",
   "language": "python",
   "name": "python3"
  },
  "language_info": {
   "codemirror_mode": {
    "name": "ipython",
    "version": 3
   },
   "file_extension": ".py",
   "mimetype": "text/x-python",
   "name": "python",
   "nbconvert_exporter": "python",
   "pygments_lexer": "ipython3",
   "version": "3.11.5"
  }
 },
 "nbformat": 4,
 "nbformat_minor": 5
}
