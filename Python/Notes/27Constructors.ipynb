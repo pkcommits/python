{
 "cells": [
  {
   "cell_type": "markdown",
   "id": "b44decca",
   "metadata": {},
   "source": [
    "#### Constructors \n",
    "\n",
    "A constructor in Python is a special method used to initialize objects of a class. It is automatically called when an object is created. The most common constructor in Python is __init__. It sets up the initial state of an object by assigning values to its attributes\n",
    "\n"
   ]
  },
  {
   "cell_type": "code",
   "execution_count": 2,
   "id": "35996504",
   "metadata": {},
   "outputs": [
    {
     "name": "stdout",
     "output_type": "stream",
     "text": [
      "puppy\n",
      "pug\n",
      "Buddy\n",
      "Golden Retriever\n",
      "Woof!\n"
     ]
    }
   ],
   "source": [
    "class Dog:\n",
    "    def __init__(self, name, breed):\n",
    "        self.name = name\n",
    "        self.breed = breed\n",
    "\n",
    "    def bark(self):\n",
    "        print(\"Woof!\")\n",
    "\n",
    "my_dog = Dog(\"Buddy\", \"Golden Retriever\")\n",
    "my_dog1 = Dog(\"puppy\", \"pug\")\n",
    "print(my_dog1.name)\n",
    "print(my_dog1.breed)\n",
    "print(my_dog.name)\n",
    "print(my_dog.breed)\n",
    "my_dog.bark()"
   ]
  },
  {
   "cell_type": "markdown",
   "id": "0432c0cc",
   "metadata": {},
   "source": [
    "n this example, __init__ is the constructor. When my_dog is created, __init__ is called with the arguments \"Buddy\" and \"Golden Retriever\", initializing the name and breed attributes of the Dog object.\n",
    "\n",
    "Python calls __init__ automatically after creating a new object."
   ]
  }
 ],
 "metadata": {
  "kernelspec": {
   "display_name": "base",
   "language": "python",
   "name": "python3"
  },
  "language_info": {
   "codemirror_mode": {
    "name": "ipython",
    "version": 3
   },
   "file_extension": ".py",
   "mimetype": "text/x-python",
   "name": "python",
   "nbconvert_exporter": "python",
   "pygments_lexer": "ipython3",
   "version": "3.11.5"
  }
 },
 "nbformat": 4,
 "nbformat_minor": 5
}
